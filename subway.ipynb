{
 "cells": [
  {
   "cell_type": "code",
   "execution_count": 2,
   "id": "d3890f83",
   "metadata": {},
   "outputs": [],
   "source": [
    "# Dependencies and Setup\n",
    "import matplotlib.pyplot as plt\n",
    "import pandas as pd\n",
    "import numpy as np\n",
    "import requests\n",
    "import time\n",
    "from scipy.stats import linregress\n",
    "import gmaps\n",
    "import requests\n",
    "import time\n",
    "\n",
    "\n",
    "\n",
    "#from config import (census_key, gkey)\n",
    "# Import API key\n",
    "\n",
    "# Output File (CSV)\n",
    "\n",
    "#Range of latitudes and longitudes\n",
    "#lat_range = (40.49979, 40.91306)\n",
    "#lng_range = (-74.24442, -73.71299)\n",
    "lat_range = (90, 180)\n",
    "lng_range = (90, 180)"
   ]
  },
  {
   "cell_type": "code",
   "execution_count": 3,
   "id": "45308648",
   "metadata": {},
   "outputs": [],
   "source": [
    "#assign csv to variable\n",
    "file_two = \"subway_latlon.csv\""
   ]
  },
  {
   "cell_type": "code",
   "execution_count": 4,
   "id": "aad33325",
   "metadata": {},
   "outputs": [
    {
     "data": {
      "text/html": [
       "<div>\n",
       "<style scoped>\n",
       "    .dataframe tbody tr th:only-of-type {\n",
       "        vertical-align: middle;\n",
       "    }\n",
       "\n",
       "    .dataframe tbody tr th {\n",
       "        vertical-align: top;\n",
       "    }\n",
       "\n",
       "    .dataframe thead th {\n",
       "        text-align: right;\n",
       "    }\n",
       "</style>\n",
       "<table border=\"1\" class=\"dataframe\">\n",
       "  <thead>\n",
       "    <tr style=\"text-align: right;\">\n",
       "      <th></th>\n",
       "      <th>Stop Name</th>\n",
       "      <th>Borough</th>\n",
       "      <th>GTFS Latitude</th>\n",
       "      <th>GTFS Longitude</th>\n",
       "    </tr>\n",
       "  </thead>\n",
       "  <tbody>\n",
       "    <tr>\n",
       "      <th>0</th>\n",
       "      <td>Astoria-Ditmars Blvd</td>\n",
       "      <td>Q</td>\n",
       "      <td>40.775036</td>\n",
       "      <td>-73.912034</td>\n",
       "    </tr>\n",
       "    <tr>\n",
       "      <th>1</th>\n",
       "      <td>Astoria Blvd</td>\n",
       "      <td>Q</td>\n",
       "      <td>40.770258</td>\n",
       "      <td>-73.917843</td>\n",
       "    </tr>\n",
       "    <tr>\n",
       "      <th>2</th>\n",
       "      <td>30 Av</td>\n",
       "      <td>Q</td>\n",
       "      <td>40.766779</td>\n",
       "      <td>-73.921479</td>\n",
       "    </tr>\n",
       "    <tr>\n",
       "      <th>3</th>\n",
       "      <td>Broadway</td>\n",
       "      <td>Q</td>\n",
       "      <td>40.761820</td>\n",
       "      <td>-73.925508</td>\n",
       "    </tr>\n",
       "    <tr>\n",
       "      <th>4</th>\n",
       "      <td>36 Av</td>\n",
       "      <td>Q</td>\n",
       "      <td>40.756804</td>\n",
       "      <td>-73.929575</td>\n",
       "    </tr>\n",
       "  </tbody>\n",
       "</table>\n",
       "</div>"
      ],
      "text/plain": [
       "              Stop Name Borough  GTFS Latitude  GTFS Longitude\n",
       "0  Astoria-Ditmars Blvd       Q      40.775036      -73.912034\n",
       "1          Astoria Blvd       Q      40.770258      -73.917843\n",
       "2                 30 Av       Q      40.766779      -73.921479\n",
       "3              Broadway       Q      40.761820      -73.925508\n",
       "4                 36 Av       Q      40.756804      -73.929575"
      ]
     },
     "execution_count": 4,
     "metadata": {},
     "output_type": "execute_result"
    }
   ],
   "source": [
    "#Read in csv file\n",
    "subway_stops = pd.read_csv(file_two)\n",
    "subway_stops.head()"
   ]
  },
  {
   "cell_type": "code",
   "execution_count": 7,
   "id": "2a6346b2",
   "metadata": {},
   "outputs": [
    {
     "data": {
      "text/html": [
       "<div>\n",
       "<style scoped>\n",
       "    .dataframe tbody tr th:only-of-type {\n",
       "        vertical-align: middle;\n",
       "    }\n",
       "\n",
       "    .dataframe tbody tr th {\n",
       "        vertical-align: top;\n",
       "    }\n",
       "\n",
       "    .dataframe thead th {\n",
       "        text-align: right;\n",
       "    }\n",
       "</style>\n",
       "<table border=\"1\" class=\"dataframe\">\n",
       "  <thead>\n",
       "    <tr style=\"text-align: right;\">\n",
       "      <th></th>\n",
       "      <th>Stop Name</th>\n",
       "      <th>Borough</th>\n",
       "      <th>Latitude</th>\n",
       "      <th>Longitude</th>\n",
       "    </tr>\n",
       "  </thead>\n",
       "  <tbody>\n",
       "    <tr>\n",
       "      <th>0</th>\n",
       "      <td>Astoria-Ditmars Blvd</td>\n",
       "      <td>Q</td>\n",
       "      <td>40.775036</td>\n",
       "      <td>-73.912034</td>\n",
       "    </tr>\n",
       "    <tr>\n",
       "      <th>1</th>\n",
       "      <td>Astoria Blvd</td>\n",
       "      <td>Q</td>\n",
       "      <td>40.770258</td>\n",
       "      <td>-73.917843</td>\n",
       "    </tr>\n",
       "    <tr>\n",
       "      <th>2</th>\n",
       "      <td>30 Av</td>\n",
       "      <td>Q</td>\n",
       "      <td>40.766779</td>\n",
       "      <td>-73.921479</td>\n",
       "    </tr>\n",
       "    <tr>\n",
       "      <th>3</th>\n",
       "      <td>Broadway</td>\n",
       "      <td>Q</td>\n",
       "      <td>40.761820</td>\n",
       "      <td>-73.925508</td>\n",
       "    </tr>\n",
       "    <tr>\n",
       "      <th>4</th>\n",
       "      <td>36 Av</td>\n",
       "      <td>Q</td>\n",
       "      <td>40.756804</td>\n",
       "      <td>-73.929575</td>\n",
       "    </tr>\n",
       "  </tbody>\n",
       "</table>\n",
       "</div>"
      ],
      "text/plain": [
       "              Stop Name Borough   Latitude  Longitude\n",
       "0  Astoria-Ditmars Blvd       Q  40.775036 -73.912034\n",
       "1          Astoria Blvd       Q  40.770258 -73.917843\n",
       "2                 30 Av       Q  40.766779 -73.921479\n",
       "3              Broadway       Q  40.761820 -73.925508\n",
       "4                 36 Av       Q  40.756804 -73.929575"
      ]
     },
     "execution_count": 7,
     "metadata": {},
     "output_type": "execute_result"
    }
   ],
   "source": [
    "#rename columns\n",
    "subway_stops = subway_stops.rename(columns={\"GTFS Latitude\":\"Latitude\", \"GTFS Longitude\":\"Longitude\"})\n",
    "subway_stops.head()"
   ]
  },
  {
   "cell_type": "code",
   "execution_count": 10,
   "id": "65ead811",
   "metadata": {},
   "outputs": [],
   "source": [
    "#Store latitude and longitude into locations\n",
    "locations = subway_stops[[\"Latitude\",\"Longitude\"]].astype(float)\n",
    "#subway_stops.head()"
   ]
  },
  {
   "cell_type": "code",
   "execution_count": 11,
   "id": "0816d206",
   "metadata": {},
   "outputs": [
    {
     "data": {
      "image/png": "[encoded data removed]",
      "text/plain": [
       "<Figure size 432x288 with 1 Axes>"
      ]
     },
     "metadata": {
      "needs_background": "light"
     },
     "output_type": "display_data"
    }
   ],
   "source": [
    "#scatter plot of subway stations\n",
    "plt.scatter(subway_stops.iloc[:,2],subway_stops.iloc[:,3])\n",
    "plt.xlabel('Latitude')\n",
    "plt.ylabel('Longitude')\n",
    "plt.title(\"Subway Stations)\", fontsize=14)\n",
    "plt.show()"
   ]
  },
  {
   "cell_type": "code",
   "execution_count": 17,
   "id": "da854553",
   "metadata": {},
   "outputs": [
    {
     "data": {
      "application/vnd.jupyter.widget-view+json": {
       "model_id": "0aa1fbd2c53a4f31a65d706d986016a5",
       "version_major": 2,
       "version_minor": 0
      },
      "text/plain": [
       "Figure(layout=FigureLayout(height='420px'))"
      ]
     },
     "metadata": {},
     "output_type": "display_data"
    }
   ],
   "source": [
    "#Create a subway layer\n",
    "fig2 = gmaps.figure()\n",
    "heat_layer = gmaps.heatmap_layer(locations, weights= subway_stops.Latitude,\n",
    "                                 dissipating=False, max_intensity=100, point_radius=.001\n",
    "                            )\n",
    "\n",
    "fig2.add_layer(heat_layer)\n",
    "\n",
    "fig2\n",
    "\n"
   ]
  },
  {
   "cell_type": "code",
   "execution_count": null,
   "id": "4b6cc2ce",
   "metadata": {},
   "outputs": [],
   "source": [
    "#Create a air bnb layer\n",
    "fig1 = gmaps.figure()\n",
    "heat_layer = gmaps.heatmap_layer(locations, weights= abnb_data.price>200,\n",
    "                                 dissipating=False, max_intensity=100, point_radius=.001)\n",
    "\n",
    "fig1.add_layer(heat_layer)\n",
    "\n",
    "fig1\n"
   ]
  },
  {
   "cell_type": "code",
   "execution_count": null,
   "id": "9daa05a3",
   "metadata": {},
   "outputs": [],
   "source": []
  },
  {
   "cell_type": "code",
   "execution_count": null,
   "id": "4217845a",
   "metadata": {},
   "outputs": [],
   "source": []
  }
 ],
 "metadata": {
  "kernelspec": {
   "display_name": "Python 3",
   "language": "python",
   "name": "python3"
  },
  "language_info": {
   "codemirror_mode": {
    "name": "ipython",
    "version": 3
   },
   "file_extension": ".py",
   "mimetype": "text/x-python",
   "name": "python",
   "nbconvert_exporter": "python",
   "pygments_lexer": "ipython3",
   "version": "3.8.8"
  }
 },
 "nbformat": 4,
 "nbformat_minor": 5
}
