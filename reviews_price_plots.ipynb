{
 "cells": [
  {
   "cell_type": "code",
   "execution_count": 1,
   "id": "9d654cc5-315d-4dad-8962-d70ee4b04ad3",
   "metadata": {},
   "outputs": [],
   "source": [
    "#Dependencies\n",
    "import pandas as pd\n",
    "import matplotlib.pyplot as plt\n",
    "import scipy.stats as st\n",
    "import numpy as np\n",
    "from scipy.stats import linregress"
   ]
  },
  {
   "cell_type": "code",
   "execution_count": 2,
   "id": "0b3a8261-cbec-4416-aa2f-38e869eda3e2",
   "metadata": {},
   "outputs": [
    {
     "data": {
      "text/html": [
       "<div>\n",
       "<style scoped>\n",
       "    .dataframe tbody tr th:only-of-type {\n",
       "        vertical-align: middle;\n",
       "    }\n",
       "\n",
       "    .dataframe tbody tr th {\n",
       "        vertical-align: top;\n",
       "    }\n",
       "\n",
       "    .dataframe thead th {\n",
       "        text-align: right;\n",
       "    }\n",
       "</style>\n",
       "<table border=\"1\" class=\"dataframe\">\n",
       "  <thead>\n",
       "    <tr style=\"text-align: right;\">\n",
       "      <th></th>\n",
       "      <th>Unnamed: 0</th>\n",
       "      <th>id</th>\n",
       "      <th>host_id</th>\n",
       "      <th>neighbourhood_group</th>\n",
       "      <th>neighbourhood</th>\n",
       "      <th>latitude</th>\n",
       "      <th>longitude</th>\n",
       "      <th>room_type</th>\n",
       "      <th>price</th>\n",
       "      <th>minimum_nights</th>\n",
       "      <th>number_of_reviews</th>\n",
       "      <th>reviews_per_month</th>\n",
       "      <th>calculated_host_listings_count</th>\n",
       "      <th>availability_365</th>\n",
       "    </tr>\n",
       "  </thead>\n",
       "  <tbody>\n",
       "    <tr>\n",
       "      <th>0</th>\n",
       "      <td>0</td>\n",
       "      <td>2539</td>\n",
       "      <td>2787</td>\n",
       "      <td>Brooklyn</td>\n",
       "      <td>Kensington</td>\n",
       "      <td>40.64749</td>\n",
       "      <td>-73.97237</td>\n",
       "      <td>Private room</td>\n",
       "      <td>149</td>\n",
       "      <td>1</td>\n",
       "      <td>9</td>\n",
       "      <td>0.21</td>\n",
       "      <td>6</td>\n",
       "      <td>365</td>\n",
       "    </tr>\n",
       "    <tr>\n",
       "      <th>1</th>\n",
       "      <td>1</td>\n",
       "      <td>2595</td>\n",
       "      <td>2845</td>\n",
       "      <td>Manhattan</td>\n",
       "      <td>Midtown</td>\n",
       "      <td>40.75362</td>\n",
       "      <td>-73.98377</td>\n",
       "      <td>Entire home/apt</td>\n",
       "      <td>225</td>\n",
       "      <td>1</td>\n",
       "      <td>45</td>\n",
       "      <td>0.38</td>\n",
       "      <td>2</td>\n",
       "      <td>355</td>\n",
       "    </tr>\n",
       "    <tr>\n",
       "      <th>2</th>\n",
       "      <td>2</td>\n",
       "      <td>3647</td>\n",
       "      <td>4632</td>\n",
       "      <td>Manhattan</td>\n",
       "      <td>Harlem</td>\n",
       "      <td>40.80902</td>\n",
       "      <td>-73.94190</td>\n",
       "      <td>Private room</td>\n",
       "      <td>150</td>\n",
       "      <td>3</td>\n",
       "      <td>0</td>\n",
       "      <td>0.00</td>\n",
       "      <td>1</td>\n",
       "      <td>365</td>\n",
       "    </tr>\n",
       "    <tr>\n",
       "      <th>3</th>\n",
       "      <td>3</td>\n",
       "      <td>3831</td>\n",
       "      <td>4869</td>\n",
       "      <td>Brooklyn</td>\n",
       "      <td>Clinton Hill</td>\n",
       "      <td>40.68514</td>\n",
       "      <td>-73.95976</td>\n",
       "      <td>Entire home/apt</td>\n",
       "      <td>89</td>\n",
       "      <td>1</td>\n",
       "      <td>270</td>\n",
       "      <td>4.64</td>\n",
       "      <td>1</td>\n",
       "      <td>194</td>\n",
       "    </tr>\n",
       "    <tr>\n",
       "      <th>4</th>\n",
       "      <td>4</td>\n",
       "      <td>5022</td>\n",
       "      <td>7192</td>\n",
       "      <td>Manhattan</td>\n",
       "      <td>East Harlem</td>\n",
       "      <td>40.79851</td>\n",
       "      <td>-73.94399</td>\n",
       "      <td>Entire home/apt</td>\n",
       "      <td>80</td>\n",
       "      <td>10</td>\n",
       "      <td>9</td>\n",
       "      <td>0.10</td>\n",
       "      <td>1</td>\n",
       "      <td>0</td>\n",
       "    </tr>\n",
       "  </tbody>\n",
       "</table>\n",
       "</div>"
      ],
      "text/plain": [
       "   Unnamed: 0    id  host_id neighbourhood_group neighbourhood  latitude  \\\n",
       "0           0  2539     2787            Brooklyn    Kensington  40.64749   \n",
       "1           1  2595     2845           Manhattan       Midtown  40.75362   \n",
       "2           2  3647     4632           Manhattan        Harlem  40.80902   \n",
       "3           3  3831     4869            Brooklyn  Clinton Hill  40.68514   \n",
       "4           4  5022     7192           Manhattan   East Harlem  40.79851   \n",
       "\n",
       "   longitude        room_type  price  minimum_nights  number_of_reviews  \\\n",
       "0  -73.97237     Private room    149               1                  9   \n",
       "1  -73.98377  Entire home/apt    225               1                 45   \n",
       "2  -73.94190     Private room    150               3                  0   \n",
       "3  -73.95976  Entire home/apt     89               1                270   \n",
       "4  -73.94399  Entire home/apt     80              10                  9   \n",
       "\n",
       "   reviews_per_month  calculated_host_listings_count  availability_365  \n",
       "0               0.21                               6               365  \n",
       "1               0.38                               2               355  \n",
       "2               0.00                               1               365  \n",
       "3               4.64                               1               194  \n",
       "4               0.10                               1                 0  "
      ]
     },
     "execution_count": 2,
     "metadata": {},
     "output_type": "execute_result"
    }
   ],
   "source": [
    "#Import .csv file\n",
    "df=pd.read_csv('AB_NYC_2019_clean.csv')\n",
    "df.head()"
   ]
  },
  {
   "cell_type": "code",
   "execution_count": 3,
   "id": "23be7ca4-47db-4fa7-9d3a-45c87de2b71d",
   "metadata": {},
   "outputs": [
    {
     "data": {
      "text/html": [
       "<div>\n",
       "<style scoped>\n",
       "    .dataframe tbody tr th:only-of-type {\n",
       "        vertical-align: middle;\n",
       "    }\n",
       "\n",
       "    .dataframe tbody tr th {\n",
       "        vertical-align: top;\n",
       "    }\n",
       "\n",
       "    .dataframe thead th {\n",
       "        text-align: right;\n",
       "    }\n",
       "</style>\n",
       "<table border=\"1\" class=\"dataframe\">\n",
       "  <thead>\n",
       "    <tr style=\"text-align: right;\">\n",
       "      <th></th>\n",
       "      <th>room_type</th>\n",
       "      <th>price</th>\n",
       "      <th>number_of_reviews</th>\n",
       "    </tr>\n",
       "  </thead>\n",
       "  <tbody>\n",
       "    <tr>\n",
       "      <th>0</th>\n",
       "      <td>Private room</td>\n",
       "      <td>149</td>\n",
       "      <td>9</td>\n",
       "    </tr>\n",
       "    <tr>\n",
       "      <th>1</th>\n",
       "      <td>Entire home/apt</td>\n",
       "      <td>225</td>\n",
       "      <td>45</td>\n",
       "    </tr>\n",
       "    <tr>\n",
       "      <th>2</th>\n",
       "      <td>Private room</td>\n",
       "      <td>150</td>\n",
       "      <td>0</td>\n",
       "    </tr>\n",
       "    <tr>\n",
       "      <th>3</th>\n",
       "      <td>Entire home/apt</td>\n",
       "      <td>89</td>\n",
       "      <td>270</td>\n",
       "    </tr>\n",
       "    <tr>\n",
       "      <th>4</th>\n",
       "      <td>Entire home/apt</td>\n",
       "      <td>80</td>\n",
       "      <td>9</td>\n",
       "    </tr>\n",
       "    <tr>\n",
       "      <th>...</th>\n",
       "      <td>...</td>\n",
       "      <td>...</td>\n",
       "      <td>...</td>\n",
       "    </tr>\n",
       "    <tr>\n",
       "      <th>48890</th>\n",
       "      <td>Private room</td>\n",
       "      <td>70</td>\n",
       "      <td>0</td>\n",
       "    </tr>\n",
       "    <tr>\n",
       "      <th>48891</th>\n",
       "      <td>Private room</td>\n",
       "      <td>40</td>\n",
       "      <td>0</td>\n",
       "    </tr>\n",
       "    <tr>\n",
       "      <th>48892</th>\n",
       "      <td>Entire home/apt</td>\n",
       "      <td>115</td>\n",
       "      <td>0</td>\n",
       "    </tr>\n",
       "    <tr>\n",
       "      <th>48893</th>\n",
       "      <td>Shared room</td>\n",
       "      <td>55</td>\n",
       "      <td>0</td>\n",
       "    </tr>\n",
       "    <tr>\n",
       "      <th>48894</th>\n",
       "      <td>Private room</td>\n",
       "      <td>90</td>\n",
       "      <td>0</td>\n",
       "    </tr>\n",
       "  </tbody>\n",
       "</table>\n",
       "<p>48895 rows × 3 columns</p>\n",
       "</div>"
      ],
      "text/plain": [
       "             room_type  price  number_of_reviews\n",
       "0         Private room    149                  9\n",
       "1      Entire home/apt    225                 45\n",
       "2         Private room    150                  0\n",
       "3      Entire home/apt     89                270\n",
       "4      Entire home/apt     80                  9\n",
       "...                ...    ...                ...\n",
       "48890     Private room     70                  0\n",
       "48891     Private room     40                  0\n",
       "48892  Entire home/apt    115                  0\n",
       "48893      Shared room     55                  0\n",
       "48894     Private room     90                  0\n",
       "\n",
       "[48895 rows x 3 columns]"
      ]
     },
     "execution_count": 3,
     "metadata": {},
     "output_type": "execute_result"
    }
   ],
   "source": [
    "#Create dataframe with needed columns\n",
    "rt_df=pd.DataFrame(df[['room_type','price','number_of_reviews']])\n",
    "rt_df"
   ]
  },
  {
   "cell_type": "code",
   "execution_count": 4,
   "id": "3c531573-415a-449b-af2e-b58f145b52c7",
   "metadata": {},
   "outputs": [
    {
     "data": {
      "text/plain": [
       "<pandas.core.groupby.generic.DataFrameGroupBy object at 0x7fd95a49a970>"
      ]
     },
     "execution_count": 4,
     "metadata": {},
     "output_type": "execute_result"
    }
   ],
   "source": [
    "#Use .groupby to divide info by room type\n",
    "grouped= rt_df.groupby([\"room_type\"])\n",
    "grouped"
   ]
  },
  {
   "cell_type": "code",
   "execution_count": 5,
   "id": "44719368-8380-432b-b85f-2b04f348dd5c",
   "metadata": {},
   "outputs": [],
   "source": [
    "#Create bounds\n",
    "lowerq = rt_df['price'].quantile([.25,.5,.75])[0.25]\n",
    "upperq = rt_df['price'].quantile([.25,.5,.75])[0.75]\n",
    "iqr = upperq-lowerq\n",
    "lower_bound = lowerq - (1.5*iqr)\n",
    "upper_bound = upperq + (1.5*iqr)\n",
    "rt_df = rt_df.loc[(rt_df['price'] > 0) & (rt_df['price'] < upper_bound) ]"
   ]
  },
  {
   "cell_type": "code",
   "execution_count": 6,
   "id": "b3b09d28-741c-4e85-8d73-2749fadb02a7",
   "metadata": {},
   "outputs": [
    {
     "name": "stdout",
     "output_type": "stream",
     "text": [
      "The correlation between price and reviews for Entire Home/Apt in Airbnb is -0.06\n"
     ]
    },
    {
     "data": {
      "image/png": "[encoded data removed]",
      "text/plain": [
       "<Figure size 432x288 with 1 Axes>"
      ]
     },
     "metadata": {
      "needs_background": "light"
     },
     "output_type": "display_data"
    }
   ],
   "source": [
    "#Create a dataframe with the price of entire home/apt and reviews\n",
    "entire_df=pd.DataFrame(rt_df.loc[rt_df[\"room_type\"] == \"Entire home/apt\",:])\n",
    "fig1, ax1 = plt.subplots()\n",
    "\n",
    "#Identify x and y values\n",
    "x_data= entire_df[\"price\"]\n",
    "y_data= entire_df [\"number_of_reviews\"]\n",
    "\n",
    "# Calculate the correlation and regression model for price and number of reviews for Entire Home/Apt Airbnb\n",
    "correlation = st.pearsonr(x_data, y_data)\n",
    "print(f'The correlation between price and reviews for Entire Home/Apt in Airbnb is {round(correlation[0],2)}')\n",
    "\n",
    "(slope, intercept, rvalue, pvalue, stderr) = linregress(x_data, y_data)\n",
    "regress_values = x_data * slope + intercept\n",
    "\n",
    "#Create a scatter plot\n",
    "marker_size=15\n",
    "plt.scatter(x_data,y_data)\n",
    "plt.plot(x_data, regress_values)\n",
    "plt.title('Price vs. Reviews of Entire Home/Apt in Airbnb')\n",
    "plt.xlabel('Price')\n",
    "plt.ylabel('Number of Reviews')\n",
    "plt.savefig(\"entire_home_plot.png\")\n",
    "plt.show()"
   ]
  },
  {
   "cell_type": "code",
   "execution_count": 7,
   "id": "855758e0-2ffe-47fd-932c-6b5cc7c4df09",
   "metadata": {},
   "outputs": [
    {
     "name": "stdout",
     "output_type": "stream",
     "text": [
      "The correlation between price and reviews for Private Rooms in Airbnb is 0.0\n"
     ]
    },
    {
     "data": {
      "image/png": "[encoded data removed]",
      "text/plain": [
       "<Figure size 432x288 with 1 Axes>"
      ]
     },
     "metadata": {
      "needs_background": "light"
     },
     "output_type": "display_data"
    }
   ],
   "source": [
    "#Create a dataframe with the price of private rooms and reviews\n",
    "private_df=pd.DataFrame(rt_df.loc[rt_df[\"room_type\"] == \"Private room\",:])\n",
    "fig1, ax1 = plt.subplots()\n",
    "\n",
    "#Identify x and y values\n",
    "x_data= private_df[\"price\"]\n",
    "y_data= private_df [\"number_of_reviews\"]\n",
    "\n",
    "# Calculate the correlation and regression model for price and number of reviews for Private Rooms\n",
    "correlation = st.pearsonr(x_data, y_data)\n",
    "print(f'The correlation between price and reviews for Private Rooms in Airbnb is {round(correlation[0],2)}')\n",
    "\n",
    "(slope, intercept, rvalue, pvalue, stderr) = linregress(x_data, y_data)\n",
    "regress_values = x_data * slope + intercept\n",
    "\n",
    "#Create a scatter plot\n",
    "marker_size=15\n",
    "plt.scatter(x_data,y_data)\n",
    "plt.plot(x_data, regress_values)\n",
    "plt.title('Price vs. Reviews of Private Rooms in Airbnb')\n",
    "plt.xlabel('Price')\n",
    "plt.ylabel('Number of Reviews')\n",
    "plt.savefig(\"private_room_plot.png\")\n",
    "plt.show()"
   ]
  },
  {
   "cell_type": "code",
   "execution_count": 8,
   "id": "afaa3730-99bc-4d48-b6ca-a432133feebe",
   "metadata": {},
   "outputs": [
    {
     "name": "stdout",
     "output_type": "stream",
     "text": [
      "The correlation between price and reviews for Shared Rooms in Airbnb is -0.05\n"
     ]
    },
    {
     "data": {
      "image/png": "[encoded data removed]",
      "text/plain": [
       "<Figure size 432x288 with 1 Axes>"
      ]
     },
     "metadata": {
      "needs_background": "light"
     },
     "output_type": "display_data"
    }
   ],
   "source": [
    "#Create a dataframe with the price of shared rooms and reviews\n",
    "shared_df=pd.DataFrame(rt_df.loc[rt_df[\"room_type\"] == \"Shared room\",:])\n",
    "fig1, ax1 = plt.subplots()\n",
    "\n",
    "#Identify x and y values\n",
    "x_data= shared_df[\"price\"]\n",
    "y_data= shared_df [\"number_of_reviews\"]\n",
    "\n",
    "# Calculate the correlation and regression model for price and number of reviews for Shared Rooms in Airbnb\n",
    "correlation = st.pearsonr(x_data, y_data)\n",
    "print(f'The correlation between price and reviews for Shared Rooms in Airbnb is {round(correlation[0],2)}')\n",
    "\n",
    "(slope, intercept, rvalue, pvalue, stderr) = linregress(x_data, y_data)\n",
    "regress_values = x_data * slope + intercept\n",
    "\n",
    "#Create a scatter plot\n",
    "marker_size=15\n",
    "plt.scatter(x_data,y_data)\n",
    "plt.plot(x_data, regress_values)\n",
    "plt.title('Price vs. Reviews of Shared Rooms in Airbnb')\n",
    "plt.xlabel('Price')\n",
    "plt.ylabel('Number of Reviews')\n",
    "plt.savefig(\"shared_room_plot.png\")\n",
    "plt.show()\n"
   ]
  },
  {
   "cell_type": "code",
   "execution_count": null,
   "id": "d522a022-dae6-4a03-81f9-c457af116e61",
   "metadata": {},
   "outputs": [],
   "source": []
  }
 ],
 "metadata": {
  "kernelspec": {
   "display_name": "Python 3",
   "language": "python",
   "name": "python3"
  },
  "language_info": {
   "codemirror_mode": {
    "name": "ipython",
    "version": 3
   },
   "file_extension": ".py",
   "mimetype": "text/x-python",
   "name": "python",
   "nbconvert_exporter": "python",
   "pygments_lexer": "ipython3",
   "version": "3.8.8"
  }
 },
 "nbformat": 4,
 "nbformat_minor": 5
}
