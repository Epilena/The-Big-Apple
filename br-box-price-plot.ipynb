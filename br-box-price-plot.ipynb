{
 "cells": [
  {
   "cell_type": "code",
   "execution_count": 1,
   "id": "0a4f0e89",
   "metadata": {},
   "outputs": [],
   "source": [
    "import pandas as pd\n",
    "import matplotlib.pyplot as plt\n",
    "import scipy.stats as sts\n",
    "import numpy as np"
   ]
  },
  {
   "cell_type": "code",
   "execution_count": 2,
   "id": "37964a8b",
   "metadata": {},
   "outputs": [
    {
     "data": {
      "text/html": [
       "<div>\n",
       "<style scoped>\n",
       "    .dataframe tbody tr th:only-of-type {\n",
       "        vertical-align: middle;\n",
       "    }\n",
       "\n",
       "    .dataframe tbody tr th {\n",
       "        vertical-align: top;\n",
       "    }\n",
       "\n",
       "    .dataframe thead th {\n",
       "        text-align: right;\n",
       "    }\n",
       "</style>\n",
       "<table border=\"1\" class=\"dataframe\">\n",
       "  <thead>\n",
       "    <tr style=\"text-align: right;\">\n",
       "      <th></th>\n",
       "      <th>Unnamed: 0</th>\n",
       "      <th>id</th>\n",
       "      <th>host_id</th>\n",
       "      <th>neighbourhood_group</th>\n",
       "      <th>neighbourhood</th>\n",
       "      <th>latitude</th>\n",
       "      <th>longitude</th>\n",
       "      <th>room_type</th>\n",
       "      <th>price</th>\n",
       "      <th>minimum_nights</th>\n",
       "      <th>number_of_reviews</th>\n",
       "      <th>reviews_per_month</th>\n",
       "      <th>calculated_host_listings_count</th>\n",
       "      <th>availability_365</th>\n",
       "    </tr>\n",
       "  </thead>\n",
       "  <tbody>\n",
       "    <tr>\n",
       "      <th>0</th>\n",
       "      <td>0</td>\n",
       "      <td>2539</td>\n",
       "      <td>2787</td>\n",
       "      <td>Brooklyn</td>\n",
       "      <td>Kensington</td>\n",
       "      <td>40.64749</td>\n",
       "      <td>-73.97237</td>\n",
       "      <td>Private room</td>\n",
       "      <td>149</td>\n",
       "      <td>1</td>\n",
       "      <td>9</td>\n",
       "      <td>0.21</td>\n",
       "      <td>6</td>\n",
       "      <td>365</td>\n",
       "    </tr>\n",
       "    <tr>\n",
       "      <th>1</th>\n",
       "      <td>1</td>\n",
       "      <td>2595</td>\n",
       "      <td>2845</td>\n",
       "      <td>Manhattan</td>\n",
       "      <td>Midtown</td>\n",
       "      <td>40.75362</td>\n",
       "      <td>-73.98377</td>\n",
       "      <td>Entire home/apt</td>\n",
       "      <td>225</td>\n",
       "      <td>1</td>\n",
       "      <td>45</td>\n",
       "      <td>0.38</td>\n",
       "      <td>2</td>\n",
       "      <td>355</td>\n",
       "    </tr>\n",
       "    <tr>\n",
       "      <th>2</th>\n",
       "      <td>2</td>\n",
       "      <td>3647</td>\n",
       "      <td>4632</td>\n",
       "      <td>Manhattan</td>\n",
       "      <td>Harlem</td>\n",
       "      <td>40.80902</td>\n",
       "      <td>-73.94190</td>\n",
       "      <td>Private room</td>\n",
       "      <td>150</td>\n",
       "      <td>3</td>\n",
       "      <td>0</td>\n",
       "      <td>0.00</td>\n",
       "      <td>1</td>\n",
       "      <td>365</td>\n",
       "    </tr>\n",
       "    <tr>\n",
       "      <th>3</th>\n",
       "      <td>3</td>\n",
       "      <td>3831</td>\n",
       "      <td>4869</td>\n",
       "      <td>Brooklyn</td>\n",
       "      <td>Clinton Hill</td>\n",
       "      <td>40.68514</td>\n",
       "      <td>-73.95976</td>\n",
       "      <td>Entire home/apt</td>\n",
       "      <td>89</td>\n",
       "      <td>1</td>\n",
       "      <td>270</td>\n",
       "      <td>4.64</td>\n",
       "      <td>1</td>\n",
       "      <td>194</td>\n",
       "    </tr>\n",
       "    <tr>\n",
       "      <th>4</th>\n",
       "      <td>4</td>\n",
       "      <td>5022</td>\n",
       "      <td>7192</td>\n",
       "      <td>Manhattan</td>\n",
       "      <td>East Harlem</td>\n",
       "      <td>40.79851</td>\n",
       "      <td>-73.94399</td>\n",
       "      <td>Entire home/apt</td>\n",
       "      <td>80</td>\n",
       "      <td>10</td>\n",
       "      <td>9</td>\n",
       "      <td>0.10</td>\n",
       "      <td>1</td>\n",
       "      <td>0</td>\n",
       "    </tr>\n",
       "  </tbody>\n",
       "</table>\n",
       "</div>"
      ],
      "text/plain": [
       "   Unnamed: 0    id  host_id neighbourhood_group neighbourhood  latitude  \\\n",
       "0           0  2539     2787            Brooklyn    Kensington  40.64749   \n",
       "1           1  2595     2845           Manhattan       Midtown  40.75362   \n",
       "2           2  3647     4632           Manhattan        Harlem  40.80902   \n",
       "3           3  3831     4869            Brooklyn  Clinton Hill  40.68514   \n",
       "4           4  5022     7192           Manhattan   East Harlem  40.79851   \n",
       "\n",
       "   longitude        room_type  price  minimum_nights  number_of_reviews  \\\n",
       "0  -73.97237     Private room    149               1                  9   \n",
       "1  -73.98377  Entire home/apt    225               1                 45   \n",
       "2  -73.94190     Private room    150               3                  0   \n",
       "3  -73.95976  Entire home/apt     89               1                270   \n",
       "4  -73.94399  Entire home/apt     80              10                  9   \n",
       "\n",
       "   reviews_per_month  calculated_host_listings_count  availability_365  \n",
       "0               0.21                               6               365  \n",
       "1               0.38                               2               355  \n",
       "2               0.00                               1               365  \n",
       "3               4.64                               1               194  \n",
       "4               0.10                               1                 0  "
      ]
     },
     "execution_count": 2,
     "metadata": {},
     "output_type": "execute_result"
    }
   ],
   "source": [
    "# pull csv file\n",
    "df = pd.read_csv('AB_NYC_2019_clean.csv')\n",
    "df.head()"
   ]
  },
  {
   "cell_type": "code",
   "execution_count": 3,
   "id": "6aa8ac11",
   "metadata": {},
   "outputs": [
    {
     "data": {
      "text/html": [
       "<div>\n",
       "<style scoped>\n",
       "    .dataframe tbody tr th:only-of-type {\n",
       "        vertical-align: middle;\n",
       "    }\n",
       "\n",
       "    .dataframe tbody tr th {\n",
       "        vertical-align: top;\n",
       "    }\n",
       "\n",
       "    .dataframe thead th {\n",
       "        text-align: right;\n",
       "    }\n",
       "</style>\n",
       "<table border=\"1\" class=\"dataframe\">\n",
       "  <thead>\n",
       "    <tr style=\"text-align: right;\">\n",
       "      <th></th>\n",
       "      <th>id</th>\n",
       "      <th>neighbourhood_group</th>\n",
       "      <th>room_type</th>\n",
       "      <th>price</th>\n",
       "    </tr>\n",
       "  </thead>\n",
       "  <tbody>\n",
       "    <tr>\n",
       "      <th>0</th>\n",
       "      <td>2539</td>\n",
       "      <td>Brooklyn</td>\n",
       "      <td>Private room</td>\n",
       "      <td>149</td>\n",
       "    </tr>\n",
       "    <tr>\n",
       "      <th>1</th>\n",
       "      <td>2595</td>\n",
       "      <td>Manhattan</td>\n",
       "      <td>Entire home/apt</td>\n",
       "      <td>225</td>\n",
       "    </tr>\n",
       "    <tr>\n",
       "      <th>2</th>\n",
       "      <td>3647</td>\n",
       "      <td>Manhattan</td>\n",
       "      <td>Private room</td>\n",
       "      <td>150</td>\n",
       "    </tr>\n",
       "    <tr>\n",
       "      <th>3</th>\n",
       "      <td>3831</td>\n",
       "      <td>Brooklyn</td>\n",
       "      <td>Entire home/apt</td>\n",
       "      <td>89</td>\n",
       "    </tr>\n",
       "    <tr>\n",
       "      <th>4</th>\n",
       "      <td>5022</td>\n",
       "      <td>Manhattan</td>\n",
       "      <td>Entire home/apt</td>\n",
       "      <td>80</td>\n",
       "    </tr>\n",
       "  </tbody>\n",
       "</table>\n",
       "</div>"
      ],
      "text/plain": [
       "     id neighbourhood_group        room_type  price\n",
       "0  2539            Brooklyn     Private room    149\n",
       "1  2595           Manhattan  Entire home/apt    225\n",
       "2  3647           Manhattan     Private room    150\n",
       "3  3831            Brooklyn  Entire home/apt     89\n",
       "4  5022           Manhattan  Entire home/apt     80"
      ]
     },
     "execution_count": 3,
     "metadata": {},
     "output_type": "execute_result"
    }
   ],
   "source": [
    "# create new df for neighbourhood and room type\n",
    "br_df = df[['id','neighbourhood_group','room_type','price']]\n",
    "br_df.head()\n",
    "#br_df['room_type'].value_counts()"
   ]
  },
  {
   "cell_type": "code",
   "execution_count": 4,
   "id": "5450fedb",
   "metadata": {},
   "outputs": [],
   "source": [
    "#create bounds\n",
    "lowerq = br_df['price'].quantile([.25,.5,.75])[0.25]\n",
    "upperq = br_df['price'].quantile([.25,.5,.75])[0.75]\n",
    "iqr = upperq-lowerq\n",
    "lower_bound = lowerq - (1.5*iqr)\n",
    "upper_bound = upperq + (1.5*iqr)\n",
    "\n",
    "br_df = br_df.loc[(br_df['price'] > 0) & (br_df['price'] < upper_bound) ]"
   ]
  },
  {
   "cell_type": "code",
   "execution_count": 6,
   "id": "1311a218",
   "metadata": {},
   "outputs": [],
   "source": [
    "\n",
    "#Private room\n",
    "prive_room_df = br_df.loc[(br_df['room_type'] == 'Private room')]\n",
    "\n",
    "#Entire home/apt\n",
    "entire_home_df = br_df.loc[(br_df['room_type'] == 'Entire home/apt')]\n",
    "\n",
    "#Shared room\n",
    "shared_room_df = br_df.loc[(br_df['room_type'] == 'Shared room')]"
   ]
  },
  {
   "cell_type": "code",
   "execution_count": null,
   "id": "fee45fa8",
   "metadata": {},
   "outputs": [],
   "source": []
  },
  {
   "cell_type": "code",
   "execution_count": 7,
   "id": "6e3ad74e",
   "metadata": {},
   "outputs": [
    {
     "data": {
      "image/png": "[encoded data removed]",
      "text/plain": [
       "<Figure size 360x432 with 4 Axes>"
      ]
     },
     "metadata": {
      "needs_background": "light"
     },
     "output_type": "display_data"
    }
   ],
   "source": [
    "\n",
    "fig1, ax = plt.subplots(4,figsize=(5,6),sharex=True)\n",
    "fig1.suptitle('NYC AirBnB Prices')\n",
    "#ax[0].set_title('NYC AirBnB Price')\n",
    "ax[0].set_ylabel('All Rentals')\n",
    "ax[0].boxplot(br_df['price'],vert=False)\n",
    "ax[0].yaxis.set_ticks([])\n",
    "\n",
    "ax[1].set_ylabel('Private Room')\n",
    "ax[1].boxplot(prive_room_df['price'],vert=False)\n",
    "ax[1].yaxis.set_ticks([])\n",
    "\n",
    "ax[2].set_ylabel('Entire Home')\n",
    "ax[2].boxplot(entire_home_df['price'],vert=False)\n",
    "ax[2].yaxis.set_ticks([])\n",
    "\n",
    "ax[3].set_xlabel('Price')\n",
    "ax[3].set_ylabel('Shared Room')\n",
    "ax[3].boxplot(shared_room_df['price'],vert=False)\n",
    "ax[3].yaxis.set_ticks([])\n",
    "\n",
    "\n",
    "fig1.tight_layout()"
   ]
  },
  {
   "cell_type": "code",
   "execution_count": 8,
   "id": "b01f6a32",
   "metadata": {},
   "outputs": [
    {
     "data": {
      "text/plain": [
       "[]"
      ]
     },
     "execution_count": 8,
     "metadata": {},
     "output_type": "execute_result"
    },
    {
     "data": {
      "image/png": "[encoded data removed]",
      "text/plain": [
       "<Figure size 576x720 with 4 Axes>"
      ]
     },
     "metadata": {
      "needs_background": "light"
     },
     "output_type": "display_data"
    }
   ],
   "source": [
    "fig = plt.figure(figsize=(8,10))\n",
    "gs = fig.add_gridspec(4,hspace=0)\n",
    "ax = gs.subplots(sharex=True)\n",
    "fig.suptitle('NYC AirBnB Prices',y=.95)\n",
    "\n",
    "box1 = ax[0].boxplot(br_df['price'],vert=False,showfliers=False)\n",
    "ax[0].set_ylabel('All Rentals')\n",
    "ax[0].yaxis.set_ticks([])\n",
    "\n",
    "\n",
    "box3 = ax[2].boxplot(entire_home_df['price'],vert=False,showfliers=False)\n",
    "ax[2].set_ylabel('Entire Home')\n",
    "ax[2].yaxis.set_ticks([])\n",
    "\n",
    "box2 = ax[1].boxplot(prive_room_df['price'],vert=False,showfliers=False)\n",
    "ax[1].set_ylabel('Private Room')\n",
    "ax[1].yaxis.set_ticks([])\n",
    "\n",
    "\n",
    "box4 = ax[3].boxplot(shared_room_df['price'],vert=False,showfliers=False)\n",
    "ax[3].set_xlabel('Price')\n",
    "ax[3].set_ylabel('Shared Room')\n",
    "ax[3].yaxis.set_ticks([])\n"
   ]
  },
  {
   "cell_type": "code",
   "execution_count": 9,
   "id": "f16acef7",
   "metadata": {},
   "outputs": [],
   "source": [
    "group1 = br_df[br_df['room_type']=='Shared room']['price']\n",
    "group2 = br_df[br_df['room_type']=='Private room']['price']\n",
    "group3 = br_df[br_df['room_type']=='Entire home/apt']['price']\n"
   ]
  },
  {
   "cell_type": "code",
   "execution_count": 10,
   "id": "4011163e",
   "metadata": {},
   "outputs": [
    {
     "data": {
      "text/plain": [
       "F_onewayResult(statistic=14439.617968153561, pvalue=0.0)"
      ]
     },
     "execution_count": 10,
     "metadata": {},
     "output_type": "execute_result"
    }
   ],
   "source": [
    "sts.f_oneway(group1, group2, group3)"
   ]
  },
  {
   "cell_type": "code",
   "execution_count": null,
   "id": "4c7469e7",
   "metadata": {},
   "outputs": [],
   "source": []
  },
  {
   "cell_type": "code",
   "execution_count": null,
   "id": "9eb361c8",
   "metadata": {},
   "outputs": [],
   "source": []
  },
  {
   "cell_type": "code",
   "execution_count": null,
   "id": "c13b7a7d",
   "metadata": {},
   "outputs": [],
   "source": []
  },
  {
   "cell_type": "code",
   "execution_count": null,
   "id": "50ce60ab",
   "metadata": {},
   "outputs": [],
   "source": []
  },
  {
   "cell_type": "code",
   "execution_count": null,
   "id": "ede40ee3",
   "metadata": {},
   "outputs": [],
   "source": []
  },
  {
   "cell_type": "code",
   "execution_count": null,
   "id": "fa1af009",
   "metadata": {},
   "outputs": [],
   "source": []
  }
 ],
 "metadata": {
  "kernelspec": {
   "display_name": "Python 3",
   "language": "python",
   "name": "python3"
  },
  "language_info": {
   "codemirror_mode": {
    "name": "ipython",
    "version": 3
   },
   "file_extension": ".py",
   "mimetype": "text/x-python",
   "name": "python",
   "nbconvert_exporter": "python",
   "pygments_lexer": "ipython3",
   "version": "3.8.8"
  }
 },
 "nbformat": 4,
 "nbformat_minor": 5
}
