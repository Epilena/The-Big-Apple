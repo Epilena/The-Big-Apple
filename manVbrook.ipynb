{
 "cells": [
  {
   "cell_type": "code",
   "execution_count": 1,
   "id": "57c665a1",
   "metadata": {},
   "outputs": [],
   "source": [
    "#AirBnb T-Test"
   ]
  },
  {
   "cell_type": "code",
   "execution_count": 14,
   "id": "752f9c34",
   "metadata": {},
   "outputs": [],
   "source": [
    "# Dependencies and Setup\n",
    "%matplotlib inline\n",
    "import matplotlib.pyplot as plt\n",
    "import pandas as pd\n",
    "import numpy as np\n",
    "import scipy.stats as stats\n",
    "from scipy.stats import linregress"
   ]
  },
  {
   "cell_type": "code",
   "execution_count": 15,
   "id": "75342f9c",
   "metadata": {},
   "outputs": [],
   "source": [
    "#assign csv to variable\n",
    "file_one = \"fiveDay.csv\""
   ]
  },
  {
   "cell_type": "code",
   "execution_count": 16,
   "id": "0b638ed1",
   "metadata": {},
   "outputs": [
    {
     "data": {
      "text/html": [
       "<div>\n",
       "<style scoped>\n",
       "    .dataframe tbody tr th:only-of-type {\n",
       "        vertical-align: middle;\n",
       "    }\n",
       "\n",
       "    .dataframe tbody tr th {\n",
       "        vertical-align: top;\n",
       "    }\n",
       "\n",
       "    .dataframe thead th {\n",
       "        text-align: right;\n",
       "    }\n",
       "</style>\n",
       "<table border=\"1\" class=\"dataframe\">\n",
       "  <thead>\n",
       "    <tr style=\"text-align: right;\">\n",
       "      <th></th>\n",
       "      <th>id</th>\n",
       "      <th>host_id</th>\n",
       "      <th>neighbourhood_group</th>\n",
       "      <th>neighbourhood</th>\n",
       "      <th>latitude</th>\n",
       "      <th>longitude</th>\n",
       "      <th>room_type</th>\n",
       "      <th>price</th>\n",
       "      <th>minimum_nights</th>\n",
       "      <th>number_of_reviews</th>\n",
       "      <th>reviews_per_month</th>\n",
       "      <th>calculated_host_listings_count</th>\n",
       "      <th>availability_365</th>\n",
       "    </tr>\n",
       "  </thead>\n",
       "  <tbody>\n",
       "    <tr>\n",
       "      <th>0</th>\n",
       "      <td>2539</td>\n",
       "      <td>2787</td>\n",
       "      <td>Brooklyn</td>\n",
       "      <td>Kensington</td>\n",
       "      <td>40.64749</td>\n",
       "      <td>-73.97237</td>\n",
       "      <td>Private room</td>\n",
       "      <td>149</td>\n",
       "      <td>1</td>\n",
       "      <td>9</td>\n",
       "      <td>0.21</td>\n",
       "      <td>6</td>\n",
       "      <td>365</td>\n",
       "    </tr>\n",
       "    <tr>\n",
       "      <th>1</th>\n",
       "      <td>2595</td>\n",
       "      <td>2845</td>\n",
       "      <td>Manhattan</td>\n",
       "      <td>Midtown</td>\n",
       "      <td>40.75362</td>\n",
       "      <td>-73.98377</td>\n",
       "      <td>Entire home/apt</td>\n",
       "      <td>225</td>\n",
       "      <td>1</td>\n",
       "      <td>45</td>\n",
       "      <td>0.38</td>\n",
       "      <td>2</td>\n",
       "      <td>355</td>\n",
       "    </tr>\n",
       "    <tr>\n",
       "      <th>2</th>\n",
       "      <td>3647</td>\n",
       "      <td>4632</td>\n",
       "      <td>Manhattan</td>\n",
       "      <td>Harlem</td>\n",
       "      <td>40.80902</td>\n",
       "      <td>-73.94190</td>\n",
       "      <td>Private room</td>\n",
       "      <td>150</td>\n",
       "      <td>3</td>\n",
       "      <td>0</td>\n",
       "      <td>0.00</td>\n",
       "      <td>1</td>\n",
       "      <td>365</td>\n",
       "    </tr>\n",
       "    <tr>\n",
       "      <th>3</th>\n",
       "      <td>3831</td>\n",
       "      <td>4869</td>\n",
       "      <td>Brooklyn</td>\n",
       "      <td>Clinton Hill</td>\n",
       "      <td>40.68514</td>\n",
       "      <td>-73.95976</td>\n",
       "      <td>Entire home/apt</td>\n",
       "      <td>89</td>\n",
       "      <td>1</td>\n",
       "      <td>270</td>\n",
       "      <td>4.64</td>\n",
       "      <td>1</td>\n",
       "      <td>194</td>\n",
       "    </tr>\n",
       "    <tr>\n",
       "      <th>4</th>\n",
       "      <td>5099</td>\n",
       "      <td>7322</td>\n",
       "      <td>Manhattan</td>\n",
       "      <td>Murray Hill</td>\n",
       "      <td>40.74767</td>\n",
       "      <td>-73.97500</td>\n",
       "      <td>Entire home/apt</td>\n",
       "      <td>200</td>\n",
       "      <td>3</td>\n",
       "      <td>74</td>\n",
       "      <td>0.59</td>\n",
       "      <td>1</td>\n",
       "      <td>129</td>\n",
       "    </tr>\n",
       "    <tr>\n",
       "      <th>...</th>\n",
       "      <td>...</td>\n",
       "      <td>...</td>\n",
       "      <td>...</td>\n",
       "      <td>...</td>\n",
       "      <td>...</td>\n",
       "      <td>...</td>\n",
       "      <td>...</td>\n",
       "      <td>...</td>\n",
       "      <td>...</td>\n",
       "      <td>...</td>\n",
       "      <td>...</td>\n",
       "      <td>...</td>\n",
       "      <td>...</td>\n",
       "    </tr>\n",
       "    <tr>\n",
       "      <th>38747</th>\n",
       "      <td>36484087</td>\n",
       "      <td>274321313</td>\n",
       "      <td>Manhattan</td>\n",
       "      <td>Hell's Kitchen</td>\n",
       "      <td>40.76392</td>\n",
       "      <td>-73.99183</td>\n",
       "      <td>Private room</td>\n",
       "      <td>125</td>\n",
       "      <td>4</td>\n",
       "      <td>0</td>\n",
       "      <td>0.00</td>\n",
       "      <td>1</td>\n",
       "      <td>31</td>\n",
       "    </tr>\n",
       "    <tr>\n",
       "      <th>38748</th>\n",
       "      <td>36484363</td>\n",
       "      <td>107716952</td>\n",
       "      <td>Queens</td>\n",
       "      <td>Jamaica</td>\n",
       "      <td>40.69137</td>\n",
       "      <td>-73.80844</td>\n",
       "      <td>Private room</td>\n",
       "      <td>65</td>\n",
       "      <td>1</td>\n",
       "      <td>0</td>\n",
       "      <td>0.00</td>\n",
       "      <td>2</td>\n",
       "      <td>163</td>\n",
       "    </tr>\n",
       "    <tr>\n",
       "      <th>38749</th>\n",
       "      <td>36484665</td>\n",
       "      <td>8232441</td>\n",
       "      <td>Brooklyn</td>\n",
       "      <td>Bedford-Stuyvesant</td>\n",
       "      <td>40.67853</td>\n",
       "      <td>-73.94995</td>\n",
       "      <td>Private room</td>\n",
       "      <td>70</td>\n",
       "      <td>2</td>\n",
       "      <td>0</td>\n",
       "      <td>0.00</td>\n",
       "      <td>2</td>\n",
       "      <td>9</td>\n",
       "    </tr>\n",
       "    <tr>\n",
       "      <th>38750</th>\n",
       "      <td>36485057</td>\n",
       "      <td>6570630</td>\n",
       "      <td>Brooklyn</td>\n",
       "      <td>Bushwick</td>\n",
       "      <td>40.70184</td>\n",
       "      <td>-73.93317</td>\n",
       "      <td>Private room</td>\n",
       "      <td>40</td>\n",
       "      <td>4</td>\n",
       "      <td>0</td>\n",
       "      <td>0.00</td>\n",
       "      <td>2</td>\n",
       "      <td>36</td>\n",
       "    </tr>\n",
       "    <tr>\n",
       "      <th>38751</th>\n",
       "      <td>36485609</td>\n",
       "      <td>30985759</td>\n",
       "      <td>Manhattan</td>\n",
       "      <td>Hell's Kitchen</td>\n",
       "      <td>40.75751</td>\n",
       "      <td>-73.99112</td>\n",
       "      <td>Shared room</td>\n",
       "      <td>55</td>\n",
       "      <td>1</td>\n",
       "      <td>0</td>\n",
       "      <td>0.00</td>\n",
       "      <td>6</td>\n",
       "      <td>2</td>\n",
       "    </tr>\n",
       "  </tbody>\n",
       "</table>\n",
       "<p>38752 rows × 13 columns</p>\n",
       "</div>"
      ],
      "text/plain": [
       "             id    host_id neighbourhood_group       neighbourhood  latitude  \\\n",
       "0          2539       2787            Brooklyn          Kensington  40.64749   \n",
       "1          2595       2845           Manhattan             Midtown  40.75362   \n",
       "2          3647       4632           Manhattan              Harlem  40.80902   \n",
       "3          3831       4869            Brooklyn        Clinton Hill  40.68514   \n",
       "4          5099       7322           Manhattan         Murray Hill  40.74767   \n",
       "...         ...        ...                 ...                 ...       ...   \n",
       "38747  36484087  274321313           Manhattan      Hell's Kitchen  40.76392   \n",
       "38748  36484363  107716952              Queens             Jamaica  40.69137   \n",
       "38749  36484665    8232441            Brooklyn  Bedford-Stuyvesant  40.67853   \n",
       "38750  36485057    6570630            Brooklyn            Bushwick  40.70184   \n",
       "38751  36485609   30985759           Manhattan      Hell's Kitchen  40.75751   \n",
       "\n",
       "       longitude        room_type  price  minimum_nights  number_of_reviews  \\\n",
       "0      -73.97237     Private room    149               1                  9   \n",
       "1      -73.98377  Entire home/apt    225               1                 45   \n",
       "2      -73.94190     Private room    150               3                  0   \n",
       "3      -73.95976  Entire home/apt     89               1                270   \n",
       "4      -73.97500  Entire home/apt    200               3                 74   \n",
       "...          ...              ...    ...             ...                ...   \n",
       "38747  -73.99183     Private room    125               4                  0   \n",
       "38748  -73.80844     Private room     65               1                  0   \n",
       "38749  -73.94995     Private room     70               2                  0   \n",
       "38750  -73.93317     Private room     40               4                  0   \n",
       "38751  -73.99112      Shared room     55               1                  0   \n",
       "\n",
       "       reviews_per_month  calculated_host_listings_count  availability_365  \n",
       "0                   0.21                               6               365  \n",
       "1                   0.38                               2               355  \n",
       "2                   0.00                               1               365  \n",
       "3                   4.64                               1               194  \n",
       "4                   0.59                               1               129  \n",
       "...                  ...                             ...               ...  \n",
       "38747               0.00                               1                31  \n",
       "38748               0.00                               2               163  \n",
       "38749               0.00                               2                 9  \n",
       "38750               0.00                               2                36  \n",
       "38751               0.00                               6                 2  \n",
       "\n",
       "[38752 rows x 13 columns]"
      ]
     },
     "execution_count": 16,
     "metadata": {},
     "output_type": "execute_result"
    }
   ],
   "source": [
    "#Read in csv file\n",
    "compare = pd.read_csv(file_one)\n",
    "compare"
   ]
  },
  {
   "cell_type": "code",
   "execution_count": 17,
   "id": "6ad47627",
   "metadata": {},
   "outputs": [
    {
     "data": {
      "text/plain": [
       "pandas.core.frame.DataFrame"
      ]
     },
     "execution_count": 17,
     "metadata": {},
     "output_type": "execute_result"
    }
   ],
   "source": [
    "## COMPARE MANHATTAN VS BROOKLYN ##\n",
    "\n",
    "#Make a manhattan df and reduce it to just price\n",
    "\n",
    "manhattan = compare.loc[(compare[\"neighbourhood_group\"] == \"Manhattan\")]\n",
    "type(manhattan)\n"
   ]
  },
  {
   "cell_type": "code",
   "execution_count": null,
   "id": "d2dc04bb",
   "metadata": {},
   "outputs": [],
   "source": []
  },
  {
   "cell_type": "code",
   "execution_count": null,
   "id": "b48009e2",
   "metadata": {},
   "outputs": [],
   "source": []
  },
  {
   "cell_type": "code",
   "execution_count": 18,
   "id": "fa91ef1c",
   "metadata": {
    "scrolled": true
   },
   "outputs": [
    {
     "data": {
      "text/plain": [
       "id                                  int64\n",
       "host_id                             int64\n",
       "neighbourhood_group                object\n",
       "neighbourhood                      object\n",
       "latitude                          float64\n",
       "longitude                         float64\n",
       "room_type                          object\n",
       "price                               int64\n",
       "minimum_nights                      int64\n",
       "number_of_reviews                   int64\n",
       "reviews_per_month                 float64\n",
       "calculated_host_listings_count      int64\n",
       "availability_365                    int64\n",
       "dtype: object"
      ]
     },
     "execution_count": 18,
     "metadata": {},
     "output_type": "execute_result"
    }
   ],
   "source": [
    "manhattan.dtypes"
   ]
  },
  {
   "cell_type": "code",
   "execution_count": 19,
   "id": "e62cc9a9",
   "metadata": {},
   "outputs": [],
   "source": [
    "manhattan = manhattan[\"price\"]\n"
   ]
  },
  {
   "cell_type": "code",
   "execution_count": 20,
   "id": "7e2a7d9f",
   "metadata": {},
   "outputs": [
    {
     "data": {
      "text/plain": [
       "pandas.core.frame.DataFrame"
      ]
     },
     "execution_count": 20,
     "metadata": {},
     "output_type": "execute_result"
    }
   ],
   "source": [
    "brooklyn = compare.loc[(compare[\"neighbourhood_group\"] == \"Brooklyn\")]\n",
    "type(brooklyn)\n"
   ]
  },
  {
   "cell_type": "code",
   "execution_count": 21,
   "id": "64f5eee6",
   "metadata": {},
   "outputs": [
    {
     "data": {
      "text/plain": [
       "0        149\n",
       "3         89\n",
       "10        89\n",
       "12       140\n",
       "13       215\n",
       "        ... \n",
       "38739    170\n",
       "38743    120\n",
       "38746    170\n",
       "38749     70\n",
       "38750     40\n",
       "Name: price, Length: 16385, dtype: int64"
      ]
     },
     "execution_count": 21,
     "metadata": {},
     "output_type": "execute_result"
    }
   ],
   "source": [
    "brooklyn[\"price\"]"
   ]
  },
  {
   "cell_type": "code",
   "execution_count": 22,
   "id": "7264bfd7",
   "metadata": {},
   "outputs": [],
   "source": [
    "brooklyn = brooklyn[\"price\"]"
   ]
  },
  {
   "cell_type": "code",
   "execution_count": 24,
   "id": "5f4214d4",
   "metadata": {},
   "outputs": [
    {
     "data": {
      "text/plain": [
       "count    16385.00000\n",
       "mean       126.00769\n",
       "std        185.59809\n",
       "min          0.00000\n",
       "25%         60.00000\n",
       "50%         95.00000\n",
       "75%        150.00000\n",
       "max      10000.00000\n",
       "Name: price, dtype: float64"
      ]
     },
     "execution_count": 24,
     "metadata": {},
     "output_type": "execute_result"
    }
   ],
   "source": [
    "brooklyn.describe()"
   ]
  },
  {
   "cell_type": "code",
   "execution_count": 25,
   "id": "51701ac9",
   "metadata": {},
   "outputs": [
    {
     "data": {
      "text/plain": [
       "count    16232.000000\n",
       "mean       193.535054\n",
       "std        255.130399\n",
       "min          0.000000\n",
       "25%         92.750000\n",
       "50%        149.000000\n",
       "75%        220.000000\n",
       "max       9999.000000\n",
       "Name: price, dtype: float64"
      ]
     },
     "execution_count": 25,
     "metadata": {},
     "output_type": "execute_result"
    }
   ],
   "source": [
    "manhattan.describe()"
   ]
  },
  {
   "cell_type": "code",
   "execution_count": 26,
   "id": "26c02d38",
   "metadata": {},
   "outputs": [
    {
     "data": {
      "text/plain": [
       "count    16385.00000\n",
       "mean       126.00769\n",
       "std        185.59809\n",
       "min          0.00000\n",
       "25%         60.00000\n",
       "50%         95.00000\n",
       "75%        150.00000\n",
       "max      10000.00000\n",
       "Name: price, dtype: float64"
      ]
     },
     "execution_count": 26,
     "metadata": {},
     "output_type": "execute_result"
    }
   ],
   "source": [
    "brooklyn.describe()"
   ]
  },
  {
   "cell_type": "raw",
   "id": "323df90a",
   "metadata": {},
   "source": []
  },
  {
   "cell_type": "code",
   "execution_count": 13,
   "id": "61cdb605",
   "metadata": {},
   "outputs": [
    {
     "data": {
      "text/plain": [
       "Ttest_indResult(statistic=27.31327834843445, pvalue=3.0220607701004607e-162)"
      ]
     },
     "execution_count": 13,
     "metadata": {},
     "output_type": "execute_result"
    }
   ],
   "source": [
    "stats.ttest_ind(manhattan, brooklyn, equal_var=False)\n"
   ]
  },
  {
   "cell_type": "code",
   "execution_count": null,
   "id": "cd6b9e71",
   "metadata": {},
   "outputs": [],
   "source": [
    "#high p value, we fail to reject the null, the variances are not equal"
   ]
  },
  {
   "cell_type": "code",
   "execution_count": 10,
   "id": "f8ee7cc8",
   "metadata": {},
   "outputs": [],
   "source": [
    "# newstats = stats.ttest_ind(manhattan, brooklyn, equal_var=True)"
   ]
  },
  {
   "cell_type": "code",
   "execution_count": 11,
   "id": "cbb1d5f5",
   "metadata": {},
   "outputs": [
    {
     "data": {
      "text/plain": [
       "6.933712978882725e-163"
      ]
     },
     "execution_count": 11,
     "metadata": {},
     "output_type": "execute_result"
    }
   ],
   "source": [
    "# newstats[1]"
   ]
  },
  {
   "cell_type": "code",
   "execution_count": 12,
   "id": "56032361",
   "metadata": {},
   "outputs": [
    {
     "name": "stdout",
     "output_type": "stream",
     "text": [
      "The null hypothesis can be rejected\n"
     ]
    }
   ],
   "source": [
    "# if newstats[1] < .05 :\n",
    "#     print(\"The null hypothesis can be rejected\")\n",
    "# else: \n",
    "#     print(\"the null hypothese cannot be rejected\")"
   ]
  }
 ],
 "metadata": {
  "kernelspec": {
   "display_name": "Python 3",
   "language": "python",
   "name": "python3"
  },
  "language_info": {
   "codemirror_mode": {
    "name": "ipython",
    "version": 3
   },
   "file_extension": ".py",
   "mimetype": "text/x-python",
   "name": "python",
   "nbconvert_exporter": "python",
   "pygments_lexer": "ipython3",
   "version": "3.8.8"
  }
 },
 "nbformat": 4,
 "nbformat_minor": 5
}
